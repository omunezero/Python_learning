{
 "cells": [
  {
   "cell_type": "markdown",
   "id": "6b5cffae-bf08-41bb-92ed-ee989b23c30a",
   "metadata": {},
   "source": [
    "Python for biologists Chapter 1 and 2\n"
   ]
  },
  {
   "cell_type": "code",
   "execution_count": 1,
   "id": "15b1e317-ad11-4436-88ec-520dc98861e1",
   "metadata": {},
   "outputs": [
    {
     "name": "stdout",
     "output_type": "stream",
     "text": [
      "Hello world\n"
     ]
    }
   ],
   "source": [
    "print(\"Hello world\")"
   ]
  },
  {
   "cell_type": "code",
   "execution_count": 1,
   "id": "979dde5e-43a1-4403-abd1-28f5c0332e60",
   "metadata": {},
   "outputs": [
    {
     "name": "stdout",
     "output_type": "stream",
     "text": [
      "Hello world\n"
     ]
    }
   ],
   "source": [
    "print('Hello world')"
   ]
  },
  {
   "cell_type": "code",
   "execution_count": 1,
   "id": "804e733c-40b7-4b1c-935c-b13a24ee0fad",
   "metadata": {},
   "outputs": [
    {
     "name": "stdout",
     "output_type": "stream",
     "text": [
      "Comments are very useful!\n"
     ]
    }
   ],
   "source": [
    "#this is a comment, it will be ignored by the computer \n",
    "print(\"Comments are very useful!\")"
   ]
  },
  {
   "cell_type": "code",
   "execution_count": 2,
   "id": "5ace85ab-a720-4938-8a46-9bbe6d407064",
   "metadata": {},
   "outputs": [
    {
     "name": "stdout",
     "output_type": "stream",
     "text": [
      "Hello world\n"
     ]
    }
   ],
   "source": [
    "#Code for printint a text \n",
    "\n",
    "print(\"Hello world\")"
   ]
  },
  {
   "cell_type": "code",
   "execution_count": 3,
   "id": "3d70a13b-a6ad-4e2d-aac8-112d9a76ab27",
   "metadata": {},
   "outputs": [
    {
     "name": "stdout",
     "output_type": "stream",
     "text": [
      "Hello World\n"
     ]
    }
   ],
   "source": [
    "#Print a friendly greeting\n",
    "\n",
    "print('Hello World')"
   ]
  },
  {
   "cell_type": "code",
   "execution_count": 4,
   "id": "2314e2a8-df5f-4249-94b5-5c47db66e73d",
   "metadata": {},
   "outputs": [
    {
     "ename": "SyntaxError",
     "evalue": "invalid syntax. Perhaps you forgot a comma? (3814945402.py, line 3)",
     "output_type": "error",
     "traceback": [
      "\u001b[0;36m  Cell \u001b[0;32mIn[4], line 3\u001b[0;36m\u001b[0m\n\u001b[0;31m    print(Hello world)\u001b[0m\n\u001b[0m          ^\u001b[0m\n\u001b[0;31mSyntaxError\u001b[0m\u001b[0;31m:\u001b[0m invalid syntax. Perhaps you forgot a comma?\n"
     ]
    }
   ],
   "source": [
    "#Forgetting quotes\n",
    "\n",
    "print(Hello world)"
   ]
  },
  {
   "cell_type": "code",
   "execution_count": 1,
   "id": "be723cc4-e503-4ad5-80d9-802d12e29309",
   "metadata": {},
   "outputs": [
    {
     "ename": "SyntaxError",
     "evalue": "unterminated string literal (detected at line 1) (2036490288.py, line 1)",
     "output_type": "error",
     "traceback": [
      "\u001b[0;36m  Cell \u001b[0;32mIn[1], line 1\u001b[0;36m\u001b[0m\n\u001b[0;31m    print(\"Hello\u001b[0m\n\u001b[0m          ^\u001b[0m\n\u001b[0;31mSyntaxError\u001b[0m\u001b[0;31m:\u001b[0m unterminated string literal (detected at line 1)\n"
     ]
    }
   ],
   "source": [
    "print(\"Hello\n",
    "      world\")"
   ]
  },
  {
   "cell_type": "code",
   "execution_count": 1,
   "id": "25f0beb0-0a65-4d26-b26c-4a4373b6d202",
   "metadata": {},
   "outputs": [
    {
     "name": "stdout",
     "output_type": "stream",
     "text": [
      "Yes\n"
     ]
    }
   ],
   "source": [
    "print('Yes')"
   ]
  },
  {
   "cell_type": "code",
   "execution_count": 2,
   "id": "c333e851-af6c-4ef9-85c9-1588ea79a996",
   "metadata": {},
   "outputs": [
    {
     "data": {
      "text/plain": [
       "<function print(*args, sep=' ', end='\\n', file=None, flush=False)>"
      ]
     },
     "execution_count": 2,
     "metadata": {},
     "output_type": "execute_result"
    }
   ],
   "source": [
    "print"
   ]
  },
  {
   "cell_type": "code",
   "execution_count": 3,
   "id": "a39fb568-2390-4687-855b-265cf6dc0e1f",
   "metadata": {
    "scrolled": true
   },
   "outputs": [
    {
     "ename": "SyntaxError",
     "evalue": "unterminated string literal (detected at line 1) (1411358943.py, line 1)",
     "output_type": "error",
     "traceback": [
      "\u001b[0;36m  Cell \u001b[0;32mIn[3], line 1\u001b[0;36m\u001b[0m\n\u001b[0;31m    print('Hello\u001b[0m\n\u001b[0m          ^\u001b[0m\n\u001b[0;31mSyntaxError\u001b[0m\u001b[0;31m:\u001b[0m unterminated string literal (detected at line 1)\n"
     ]
    }
   ],
   "source": [
    "print('Hello\n",
    "      world')"
   ]
  },
  {
   "cell_type": "code",
   "execution_count": 6,
   "id": "cec33fe6-69c1-4d6d-a24a-84b6935cb449",
   "metadata": {},
   "outputs": [
    {
     "name": "stdout",
     "output_type": "stream",
     "text": [
      "Hello\n",
      "world\n"
     ]
    }
   ],
   "source": [
    "#How to include a new line in the middle of a string\n",
    "\n",
    "print('Hello\\nworld')"
   ]
  },
  {
   "cell_type": "code",
   "execution_count": 8,
   "id": "4bc10516-d418-44cf-ae8e-06784e6c5280",
   "metadata": {},
   "outputs": [
    {
     "name": "stdout",
     "output_type": "stream",
     "text": [
      "ATGCGTA\n"
     ]
    }
   ],
   "source": [
    "#store a short DNA sequence in the variable my_dna\n",
    "\n",
    "my_dna='ATGCGTA'\n",
    "\n",
    "#now print the DNA sequence\n",
    "\n",
    "print(my_dna)"
   ]
  },
  {
   "cell_type": "code",
   "execution_count": 9,
   "id": "4dd4898c-77b2-4614-a981-08d11761e047",
   "metadata": {},
   "outputs": [
    {
     "name": "stdout",
     "output_type": "stream",
     "text": [
      "ATGCGTA\n"
     ]
    }
   ],
   "source": [
    "my_dna='ATGCGTA'\n",
    "print(my_dna)\n",
    "#change the value of my dna\n",
    "my_dna='TGGTCCA'"
   ]
  },
  {
   "cell_type": "code",
   "execution_count": 10,
   "id": "0534db5b-d7fc-496f-b261-c1dcf34ba3ca",
   "metadata": {},
   "outputs": [],
   "source": [
    "my_file='my_file.txt'"
   ]
  },
  {
   "cell_type": "code",
   "execution_count": 11,
   "id": "80fdbe80-8fe8-4c57-9a69-84e619f59766",
   "metadata": {},
   "outputs": [
    {
     "name": "stdout",
     "output_type": "stream",
     "text": [
      "my_file.txt\n"
     ]
    }
   ],
   "source": [
    "print(my_file)"
   ]
  },
  {
   "cell_type": "code",
   "execution_count": 13,
   "id": "483785c1-d5af-4d21-b2db-0f72b88f9226",
   "metadata": {},
   "outputs": [
    {
     "name": "stdout",
     "output_type": "stream",
     "text": [
      "AATTGGCC\n"
     ]
    }
   ],
   "source": [
    "#concatenation\n",
    "\n",
    "my_dna=\"AATT\" + \"GGCC\"\n",
    "print(my_dna)"
   ]
  },
  {
   "cell_type": "code",
   "execution_count": 14,
   "id": "4018d6ba-554b-4667-8746-3d04f7aa59bf",
   "metadata": {},
   "outputs": [
    {
     "name": "stdout",
     "output_type": "stream",
     "text": [
      "AAAATGC\n"
     ]
    }
   ],
   "source": [
    "#joining multiple strings together in one go\n",
    "\n",
    "upstream='AAA'\n",
    "my_dna=upstream+'ATGC'\n",
    "print(my_dna)\n",
    "\n",
    "\n",
    "\n",
    "\n"
   ]
  },
  {
   "cell_type": "code",
   "execution_count": 16,
   "id": "a3b9cc25-ada7-463a-b09e-be78bc4108f6",
   "metadata": {},
   "outputs": [
    {
     "name": "stdout",
     "output_type": "stream",
     "text": [
      "AAAATGCGGG\n"
     ]
    }
   ],
   "source": [
    "upstream='AAA'\n",
    "downstream=\"GGG\"\n",
    "my_dna=upstream+'ATGC'+downstream\n",
    "print(my_dna)"
   ]
  },
  {
   "cell_type": "code",
   "execution_count": 17,
   "id": "5d5b6f6d-fd14-415f-babf-a23765ff6f75",
   "metadata": {},
   "outputs": [
    {
     "name": "stdout",
     "output_type": "stream",
     "text": [
      "Helloworld\n"
     ]
    }
   ],
   "source": [
    "print('Hello' + '' + \"world\")"
   ]
  },
  {
   "cell_type": "code",
   "execution_count": 29,
   "id": "67c471c8-6139-4f6a-9bd4-175aec121d61",
   "metadata": {},
   "outputs": [
    {
     "name": "stdout",
     "output_type": "stream",
     "text": [
      "4\n"
     ]
    }
   ],
   "source": [
    "#finding length of a string\n",
    "\n",
    "data_length=len(\"ATGC\")\n",
    "print(data_length)"
   ]
  },
  {
   "cell_type": "code",
   "execution_count": 31,
   "id": "99606e2c-2262-4f0c-b1e7-e13d0486bd79",
   "metadata": {},
   "outputs": [
    {
     "ename": "TypeError",
     "evalue": "can only concatenate str (not \"int\") to str",
     "output_type": "error",
     "traceback": [
      "\u001b[0;31m---------------------------------------------------------------------------\u001b[0m",
      "\u001b[0;31mTypeError\u001b[0m                                 Traceback (most recent call last)",
      "Cell \u001b[0;32mIn[31], line 8\u001b[0m\n\u001b[1;32m      6\u001b[0m dna_length\u001b[38;5;241m=\u001b[39m\u001b[38;5;28mlen\u001b[39m(my_dna)\n\u001b[1;32m      7\u001b[0m \u001b[38;5;66;03m#print a message telling us the DNA sequence lenght\u001b[39;00m\n\u001b[0;32m----> 8\u001b[0m \u001b[38;5;28mprint\u001b[39m(\u001b[38;5;124m\"\u001b[39m\u001b[38;5;124mThe length of the DNA sequence is\u001b[39m\u001b[38;5;124m\"\u001b[39m \u001b[38;5;241m+\u001b[39m dna_length)\n",
      "\u001b[0;31mTypeError\u001b[0m: can only concatenate str (not \"int\") to str"
     ]
    }
   ],
   "source": [
    "#example of how python treats strings and numbers differently\n",
    "\n",
    "#store the DNA sequence in a variable\n",
    "my_dna=\"ATGCGAGT\"\n",
    "#Calculate the length of the sequence and store it in a variable \n",
    "dna_length=len(my_dna)\n",
    "#print a message telling us the DNA sequence lenght\n",
    "print(\"The length of the DNA sequence is\" + dna_length)"
   ]
  },
  {
   "cell_type": "code",
   "execution_count": 33,
   "id": "1c76ee19-b9e0-4a27-9f68-a5ea347164a3",
   "metadata": {},
   "outputs": [
    {
     "name": "stdout",
     "output_type": "stream",
     "text": [
      "The length of the DNA sequence is8\n"
     ]
    }
   ],
   "source": [
    "#to solve this error, we use str function \n",
    "\n",
    "#store the DNA sequence in a variable\n",
    "my_dna=\"ATGCGAGT\"\n",
    "#Calculate the length of the sequence and store it in a variable \n",
    "dna_length=len(my_dna)\n",
    "#print a message telling us the DNA sequence lenght\n",
    "print(\"The length of the DNA sequence is\"  +   str(dna_length))"
   ]
  },
  {
   "cell_type": "code",
   "execution_count": 36,
   "id": "0cb6a14a-4877-4bfd-a644-3b58ae3ac622",
   "metadata": {},
   "outputs": [
    {
     "name": "stdout",
     "output_type": "stream",
     "text": [
      "The length of the DNA sequence is 8\n"
     ]
    }
   ],
   "source": [
    "#joining two arguments without concatenation\n",
    "\n",
    "#store the DNA sequence in a variable\n",
    "my_dna=\"ATGCGAGT\"\n",
    "#Calculate the length of the sequence and store it in a variable \n",
    "dna_length=len(my_dna)\n",
    "#print a message telling us the DNA sequence lenght\n",
    "print(\"The length of the DNA sequence is\", dna_length)"
   ]
  },
  {
   "cell_type": "code",
   "execution_count": 1,
   "id": "be5251cd-441c-4dd9-99e8-b0a127f8370c",
   "metadata": {},
   "outputs": [
    {
     "name": "stdout",
     "output_type": "stream",
     "text": [
      "Hello\n"
     ]
    }
   ],
   "source": [
    "print(\"Hello\")"
   ]
  },
  {
   "cell_type": "code",
   "execution_count": 2,
   "id": "84b7cfcc-c78b-493e-b886-f3243204cdb4",
   "metadata": {},
   "outputs": [
    {
     "name": "stdout",
     "output_type": "stream",
     "text": [
      "Hello\n",
      "world\n"
     ]
    }
   ],
   "source": [
    "print('Hello\\nworld')"
   ]
  },
  {
   "cell_type": "code",
   "execution_count": 5,
   "id": "4cd6284c-8639-44a0-bc41-f2b9bb59c4fb",
   "metadata": {},
   "outputs": [
    {
     "name": "stdout",
     "output_type": "stream",
     "text": [
      "ATCGGTTTAAT\n"
     ]
    }
   ],
   "source": [
    "dna_seq='ATCGGTTT'\n",
    "UMI='AAT'\n",
    "\n",
    "DNA_with_UMI=dna_seq+UMI\n",
    "print(DNA_with_UMI)"
   ]
  },
  {
   "cell_type": "code",
   "execution_count": 10,
   "id": "4719f408-49af-4de3-8532-492e2054bc58",
   "metadata": {},
   "outputs": [
    {
     "name": "stdout",
     "output_type": "stream",
     "text": [
      "11\n"
     ]
    }
   ],
   "source": [
    "lengths_of_DNA=len(DNA_with_UMI)\n",
    "print(lengths_of_DNA)"
   ]
  },
  {
   "cell_type": "code",
   "execution_count": 12,
   "id": "2a9ebe92-5cff-42fd-b11e-15e0651d1c3e",
   "metadata": {},
   "outputs": [
    {
     "name": "stdout",
     "output_type": "stream",
     "text": [
      "3\n"
     ]
    }
   ],
   "source": [
    "UMI_length=len(UMI)\n",
    "print(UMI_length)"
   ]
  },
  {
   "cell_type": "code",
   "execution_count": 13,
   "id": "bf6648f3-78dd-4c91-acdd-dd7eb0085e53",
   "metadata": {},
   "outputs": [
    {
     "name": "stdout",
     "output_type": "stream",
     "text": [
      "The length of UMI is = 3\n"
     ]
    }
   ],
   "source": [
    "print('The length of UMI is = ' +str(UMI_length))"
   ]
  },
  {
   "cell_type": "code",
   "execution_count": 14,
   "id": "ce9b5a37-386f-4ebf-979a-016426d3e2e3",
   "metadata": {},
   "outputs": [
    {
     "name": "stdout",
     "output_type": "stream",
     "text": [
      "atgc\n"
     ]
    }
   ],
   "source": [
    "my_dna=\"ATGC\"\n",
    "#print my_dna in lower case\n",
    "print(my_dna.lower())"
   ]
  },
  {
   "cell_type": "code",
   "execution_count": 3,
   "id": "6fa3aca4-bcd4-425d-acb7-10c11d373d68",
   "metadata": {},
   "outputs": [
    {
     "name": "stdout",
     "output_type": "stream",
     "text": [
      "before: ATGC\n"
     ]
    }
   ],
   "source": [
    "my_dna=\"ATGC\"\n",
    "#print the variable\n",
    "print(\"before: \" + my_dna)\n"
   ]
  },
  {
   "cell_type": "code",
   "execution_count": 6,
   "id": "7f30fa5a-ffac-4300-b392-f5e5c6798da2",
   "metadata": {},
   "outputs": [
    {
     "name": "stdout",
     "output_type": "stream",
     "text": [
      "after: atgc\n"
     ]
    }
   ],
   "source": [
    "#run the lower method and store the result\n",
    "lowercase_dna= my_dna.lower()\n",
    "print(\"after: \" + lowercase_dna)\n"
   ]
  },
  {
   "cell_type": "code",
   "execution_count": null,
   "id": "53bb8b03-6c66-4aa1-8fff-3e5731d52c42",
   "metadata": {},
   "outputs": [],
   "source": [
    "#print the variable again\n",
    "print(\"after: \" + my_dna)"
   ]
  },
  {
   "cell_type": "code",
   "execution_count": 9,
   "id": "bacab2cb-e7a7-48f6-8844-522e82319caa",
   "metadata": {},
   "outputs": [
    {
     "name": "stdout",
     "output_type": "stream",
     "text": [
      "ylspadktny\n",
      "ymtpadktnv\n",
      "vlspadktnv\n"
     ]
    }
   ],
   "source": [
    "#replace method\n",
    "\n",
    "protein=\"vlspadktnv\"\n",
    "#replace valine with tyrosine\n",
    "print(protein.replace('v','y'))\n",
    "#we can replace more than one character\n",
    "print(protein.replace('vls','ymt'))\n",
    "#the original variable is not affected\n",
    "print(protein)"
   ]
  },
  {
   "cell_type": "code",
   "execution_count": 30,
   "id": "2f430c1e-b0c6-47cc-ac4a-1373b53e200c",
   "metadata": {},
   "outputs": [
    {
     "name": "stdout",
     "output_type": "stream",
     "text": [
      "vlspad\n",
      "vlspadktnv\n"
     ]
    }
   ],
   "source": [
    "#getting a substring from a long string\n",
    "\n",
    "protein=\"vlspadktnv\"\n",
    "#print positions 3 to 5 \n",
    "pa=protein[3:5]\n",
    "#postions start at 0, not 1\n",
    "print(protein[0:6])\n",
    "#id we use a stop positon beyong the end, it's the same as using the end\n",
    "print(protein[0:40])"
   ]
  },
  {
   "cell_type": "code",
   "execution_count": 31,
   "id": "2f9157d8-0150-435d-bab2-ce76f98f0b8f",
   "metadata": {},
   "outputs": [
    {
     "name": "stdout",
     "output_type": "stream",
     "text": [
      "pa\n"
     ]
    }
   ],
   "source": [
    "print(pa)"
   ]
  },
  {
   "cell_type": "code",
   "execution_count": 24,
   "id": "d48e9549-658e-4922-87e4-4ec704149a99",
   "metadata": {},
   "outputs": [
    {
     "name": "stdout",
     "output_type": "stream",
     "text": [
      "vls\n",
      "ls\n"
     ]
    }
   ],
   "source": [
    "vls=print(protein[0:3])\n",
    "ls=print(protein[1:3])"
   ]
  },
  {
   "cell_type": "code",
   "execution_count": 29,
   "id": "7a2cc403-8bac-425a-845a-21f8c468234f",
   "metadata": {},
   "outputs": [
    {
     "name": "stdout",
     "output_type": "stream",
     "text": [
      "v\n"
     ]
    }
   ],
   "source": [
    "protein=\"vlspadktnv\"\n",
    "first_residue=protein[0]\n",
    "print(first_residue)\n",
    "\n"
   ]
  },
  {
   "cell_type": "code",
   "execution_count": 34,
   "id": "bda4dd42-0e42-4024-9796-8d1396062d13",
   "metadata": {},
   "outputs": [
    {
     "name": "stdout",
     "output_type": "stream",
     "text": [
      "vlsp\n"
     ]
    }
   ],
   "source": [
    "first_4_chr=protein[0:4]\n",
    "print(first_4_chr)"
   ]
  },
  {
   "cell_type": "code",
   "execution_count": 51,
   "id": "8e89b066-9d61-4aec-a2f8-8f37e03c5e29",
   "metadata": {},
   "outputs": [
    {
     "name": "stdout",
     "output_type": "stream",
     "text": [
      "Valine: 2 lsp: 1 tryptophan: :0\n",
      "Valine: 2 \n",
      "lsp: 1 \n",
      "tryptophan: 0\n"
     ]
    }
   ],
   "source": [
    "#counting and finding a substring\n",
    "protein=\"vlspadktnv\"\n",
    "#count amino acids residues\n",
    "valine_count=protein.count(\"v\")\n",
    "lsp_count=protein.count(\"lsp\")\n",
    "tryptophan_count=protein.count(\"w\")\n",
    "\n",
    "all_AA_together=print(\"Valine: \" +str(valine_count), \"lsp: \"+str(lsp_count), \"tryptophan: :\" +str(tryptophan_count))\n",
    "\n",
    "all_AA_together=print(\"Valine: \" +str(valine_count), \"\\n\" \"lsp: \"+str(lsp_count), \"\\n\" \"tryptophan: \" +str(tryptophan_count))"
   ]
  },
  {
   "cell_type": "code",
   "execution_count": 52,
   "id": "6506cad6-ef26-42ba-9d44-0cdb65aa0f35",
   "metadata": {
    "scrolled": true
   },
   "outputs": [
    {
     "name": "stdout",
     "output_type": "stream",
     "text": [
      "Valine: 2 \n",
      "Tryptophan: 0\n"
     ]
    }
   ],
   "source": [
    "print(\"Valine: \" + str(valine_count), \"\\n\" \"Tryptophan: \" + str(tryptophan_count))"
   ]
  },
  {
   "cell_type": "code",
   "execution_count": 65,
   "id": "e5c829f4-2781-4587-a8a8-23f86b86880e",
   "metadata": {},
   "outputs": [
    {
     "name": "stdout",
     "output_type": "stream",
     "text": [
      "1\n"
     ]
    }
   ],
   "source": [
    "#Finding the location of the substring in the string\n",
    "protein=\"vlspadktnv\"\n",
    "#valine location in the string\n",
    "leucine_postion= (protein.find(\"l\"))\n",
    "print(str(leucine_postion))"
   ]
  },
  {
   "cell_type": "code",
   "execution_count": 67,
   "id": "79c3c4dd-53e8-44b7-9aa9-72519c0b2a75",
   "metadata": {},
   "outputs": [
    {
     "name": "stdout",
     "output_type": "stream",
     "text": [
      "0\n"
     ]
    }
   ],
   "source": [
    "#real example from DNA sequence\n",
    "\n",
    "sequence= \"AATAAAGGGCTATAAACTTACCCGCCATACCACAGATGTTCCAGATAAATATTGGAAGCTATATACGTACTTTGTTTCAAAATGGGTCAATCGAGAATATCGTCAACTGTTTACTAAAAATCAGTTTCATCAAGCAATGAAACACGCCAAAGTAAACAATTTAAGTACCGTTACTTATGAGCAAGTATTGTCTATTTTTAATAGTTATCTATTATTTAACGGGAGGAAATAATTCTATGAGTCGCTTTTGTAAATTTGGAAAGT\"\n",
    "#find a position of AATAAAGGGCTAT sequence\n",
    "print(str(sequence.find(\"AATAAAGGGCTAT\")))"
   ]
  },
  {
   "cell_type": "code",
   "execution_count": 68,
   "id": "2c96987e-04d2-47c3-a449-4e7f38d955ea",
   "metadata": {
    "scrolled": true
   },
   "outputs": [
    {
     "name": "stdout",
     "output_type": "stream",
     "text": [
      "1\n"
     ]
    }
   ],
   "source": [
    "print(str(sequence.count(\"AATAAAGGGCTAT\")))"
   ]
  },
  {
   "cell_type": "code",
   "execution_count": 74,
   "id": "fa74dec9-58dd-471e-9858-0ec048250025",
   "metadata": {
    "scrolled": true
   },
   "outputs": [
    {
     "name": "stdout",
     "output_type": "stream",
     "text": [
      "Location: 0 \n",
      "counts: 2\n"
     ]
    }
   ],
   "source": [
    "print(\"Location: \" + str(sequence.find(\"AATAA\")), \"\\n\" \"counts: \" + str(sequence.count(\"AATAA\")))"
   ]
  },
  {
   "cell_type": "code",
   "execution_count": 87,
   "id": "eb0ac434-656a-4e90-a8ec-7edad73f1ade",
   "metadata": {},
   "outputs": [
    {
     "name": "stdout",
     "output_type": "stream",
     "text": [
      "Total content of AT is : 67.9245283018868\n"
     ]
    }
   ],
   "source": [
    "#Exercises for Chapter 2\n",
    "\n",
    "DNA_sequence=\"ACTGATCGATTACGTATAGTATTGCTATCATACATATATATCGATGCGTTCAT\"\n",
    "\n",
    "total_seq=len(DNA_sequence)\n",
    "total_A_nt=DNA_sequence.count(\"A\")\n",
    "total_T_nt=DNA_sequence.count(\"T\")\n",
    "\n",
    "AT_content=((total_A_nt+total_T_nt)/total_seq)*100\n",
    "print(\"Total content of AT is : \" + str(AT_content))"
   ]
  },
  {
   "cell_type": "code",
   "execution_count": 38,
   "id": "c044bbab-4cd4-418f-83e1-d5a567a58f2b",
   "metadata": {
    "scrolled": true
   },
   "outputs": [
    {
     "name": "stdout",
     "output_type": "stream",
     "text": [
      "TCTGTTCGTTTTCGTTTTGTTTTTGCTTTCTTTCTTTTTTTTCGTTGCGTTCTT\n",
      "ACAGAACGAAAACGAAAAGAAAAAGCAAACAAACAAAAAAAACGAAGCGAACAA\n",
      "AGTGATGGATTAGGTATAGTATTTGGTATGATAGATATATATGGATGGGTTGAT\n",
      "ACTCATCCATTACCTATACTATTTCCTATCATACATATATATCCATCCCTTCAT\n"
     ]
    },
    {
     "ename": "TypeError",
     "evalue": "replace expected at most 3 arguments, got 8",
     "output_type": "error",
     "traceback": [
      "\u001b[0;31m---------------------------------------------------------------------------\u001b[0m",
      "\u001b[0;31mTypeError\u001b[0m                                 Traceback (most recent call last)",
      "Cell \u001b[0;32mIn[38], line 13\u001b[0m\n\u001b[1;32m     10\u001b[0m replace_G\u001b[38;5;241m=\u001b[39mDNA_seq\u001b[38;5;241m.\u001b[39mreplace(\u001b[38;5;124m\"\u001b[39m\u001b[38;5;124mG\u001b[39m\u001b[38;5;124m\"\u001b[39m , \u001b[38;5;124m\"\u001b[39m\u001b[38;5;124mC\u001b[39m\u001b[38;5;124m\"\u001b[39m)\n\u001b[1;32m     11\u001b[0m \u001b[38;5;28mprint\u001b[39m(replace_G)\n\u001b[0;32m---> 13\u001b[0m DNA_seq\u001b[38;5;241m.\u001b[39mreplace(\u001b[38;5;124m\"\u001b[39m\u001b[38;5;124mA\u001b[39m\u001b[38;5;124m\"\u001b[39m , \u001b[38;5;124m\"\u001b[39m\u001b[38;5;124mT\u001b[39m\u001b[38;5;124m\"\u001b[39m, \u001b[38;5;124m\"\u001b[39m\u001b[38;5;124mT\u001b[39m\u001b[38;5;124m\"\u001b[39m , \u001b[38;5;124m\"\u001b[39m\u001b[38;5;124mA\u001b[39m\u001b[38;5;124m\"\u001b[39m, \u001b[38;5;124m\"\u001b[39m\u001b[38;5;124mC\u001b[39m\u001b[38;5;124m\"\u001b[39m , \u001b[38;5;124m\"\u001b[39m\u001b[38;5;124mG\u001b[39m\u001b[38;5;124m\"\u001b[39m, \u001b[38;5;124m\"\u001b[39m\u001b[38;5;124mG\u001b[39m\u001b[38;5;124m\"\u001b[39m , \u001b[38;5;124m\"\u001b[39m\u001b[38;5;124mC\u001b[39m\u001b[38;5;124m\"\u001b[39m)\n",
      "\u001b[0;31mTypeError\u001b[0m: replace expected at most 3 arguments, got 8"
     ]
    }
   ],
   "source": [
    "#COMPLEMENTING DNA\n",
    "\n",
    "DNA_seq=\"ACTGATCGATTACGTATAGTATTTGCTATCATACATATATATCGATGCGTTCAT\"\n",
    "replace_A=DNA_seq.replace(\"A\" , \"T\")\n",
    "print(replace_A)\n",
    "replace_T=DNA_seq.replace(\"T\" , \"A\")\n",
    "print(replace_T)\n",
    "replace_C=DNA_seq.replace(\"C\" , \"G\")\n",
    "print(replace_C)\n",
    "replace_G=DNA_seq.replace(\"G\" , \"C\")\n",
    "print(replace_G)\n",
    "\n"
   ]
  },
  {
   "cell_type": "code",
   "execution_count": 23,
   "id": "5693e6b9-a546-4129-9a95-1a312718e957",
   "metadata": {},
   "outputs": [
    {
     "name": "stdout",
     "output_type": "stream",
     "text": [
      "ACTGATCGATTACGTATAGTATTTGCTATCATACATATATATCGATGCGTTCAT\n"
     ]
    }
   ],
   "source": [
    "print(DNA_seq)"
   ]
  },
  {
   "cell_type": "code",
   "execution_count": 41,
   "id": "abf0597e-079e-411d-893f-4def7bc01477",
   "metadata": {
    "scrolled": true
   },
   "outputs": [
    {
     "name": "stdout",
     "output_type": "stream",
     "text": [
      "Hello\n"
     ]
    }
   ],
   "source": [
    "print(\"Hello\")"
   ]
  },
  {
   "cell_type": "code",
   "execution_count": 2,
   "id": "f5820ae6-1dfe-4e0a-b589-d743f13a3149",
   "metadata": {},
   "outputs": [
    {
     "name": "stdout",
     "output_type": "stream",
     "text": [
      "Done\n"
     ]
    }
   ],
   "source": [
    "print('Done')"
   ]
  },
  {
   "cell_type": "code",
   "execution_count": 34,
   "id": "38800ddc-9620-4a89-b477-767921847235",
   "metadata": {
    "scrolled": true
   },
   "outputs": [
    {
     "name": "stdout",
     "output_type": "stream",
     "text": [
      "1\n",
      "22\n",
      "33\n"
     ]
    }
   ],
   "source": [
    "#Restriction fragment lengths\n",
    "DNA=\"ACTGATCGATTACGTATAGTAGbAATTCTATCATACATATATATCGATGCGTTCAT\"\n",
    "\n",
    "dna_count=DNA.count('GAATTC')\n",
    "print(dna_count)\n",
    "dna_length1=DNA.find('GAATTC') + 1\n",
    "print(dna_length1)\n",
    "total=len(DNA)\n",
    "dna_length2=total-dna_length1\n",
    "print(dna_length2)\n",
    "\n",
    "\n"
   ]
  },
  {
   "cell_type": "code",
   "execution_count": 51,
   "id": "ed74d1ae-c887-438e-87a0-d1cbe6466bb4",
   "metadata": {
    "scrolled": true
   },
   "outputs": [
    {
     "name": "stdout",
     "output_type": "stream",
     "text": [
      "123\n",
      "ATCGATCGATCGATCGACTGACTAGTCATAGCTATGCATGTAGCTACTCGATCGATCGATCGA\n",
      "ATCATCGATCGATATCGATGCATCGACTACTAT\n",
      "ATCGATCGATCGATCGACTGACTAGTCATAGCTATGCATGTAGCTACTCGATCGATCGATCGAATCATCGATCGATATCGATGCATCGACTACTAT\n",
      "96\n"
     ]
    }
   ],
   "source": [
    "#Splicing out introns, part one\n",
    "\n",
    "sequence=\"ATCGATCGATCGATCGACTGACTAGTCATAGCTATGCATGTAGCTACTCGATCGATCGATCGATCGATCGATCGATCGATCGATCATGCTATCATCGATCGATATCGATGCATCGACTACTAT\"\n",
    "length=len(sequence)\n",
    "print(length)\n",
    "exon1=sequence[0:63]\n",
    "print(exon1)\n",
    "exon2=sequence[90:123]\n",
    "print(exon2)\n",
    "\n",
    "coding_region= exon1+exon2\n",
    "print(coding_region)\n",
    "print(len(coding_region))\n",
    "\n"
   ]
  },
  {
   "cell_type": "code",
   "execution_count": 78,
   "id": "6ebc6073-4714-42ae-942e-8f8d1ff73cec",
   "metadata": {},
   "outputs": [
    {
     "name": "stdout",
     "output_type": "stream",
     "text": [
      "Percentage of the coding DNA sequence is: 78.04878048780488\n"
     ]
    }
   ],
   "source": [
    "#Splicing our introns, part two\n",
    "sequence=\"ATCGATCGATCGATCGACTGACTAGTCATAGCTATGCATGTAGCTACTCGATCGATCGATCGATCGATCGATCGATCGATCGATCATGCTATCATCGATCGATATCGATGCATCGACTACTAT\"\n",
    "length=len(sequence)\n",
    "exon1=sequence[0:63]\n",
    "\n",
    "exon2=sequence[90:123]\n",
    "\n",
    "coding_region= len(exon1+exon2)\n",
    "percentage = (coding_region/length*100)\n",
    "print(\"Percentage of the coding DNA sequence is: \" + str(percentage))\n",
    "\n"
   ]
  },
  {
   "cell_type": "code",
   "execution_count": 89,
   "id": "06143edd-e541-4fa3-bc63-5e52bfcf9cd7",
   "metadata": {},
   "outputs": [
    {
     "name": "stdout",
     "output_type": "stream",
     "text": [
      "123\n",
      "ATCGATCGATCGATCGACTGACTAGTCATAGCTATGCATGTAGCTACTCGATCGATCGATCGAtcgatcgatcgatcgatcgatcatgctATCATCGATCGATATCGATGCATCGACTACTAT\n"
     ]
    }
   ],
   "source": [
    "#Splicing our introns, part three\n",
    "\n",
    "sequence=\"ATCGATCGATCGATCGACTGACTAGTCATAGCTATGCATGTAGCTACTCGATCGATCGATCGATCGATCGATCGATCGATCGATCATGCTATCATCGATCGATATCGATGCATCGACTACTAT\"\n",
    "print(len(sequence))\n",
    "exon1=sequence[0:63]\n",
    "\n",
    "introns=sequence[63:90]\n",
    "\n",
    "exon2=sequence[90:123]\n",
    "\n",
    "\n",
    "print(exon1+introns.lower()+exon2)"
   ]
  },
  {
   "cell_type": "code",
   "execution_count": 86,
   "id": "2b95d82f-34b1-4a3d-b2ca-4ffe5a075ed8",
   "metadata": {},
   "outputs": [
    {
     "name": "stdout",
     "output_type": "stream",
     "text": [
      "123\n"
     ]
    }
   ],
   "source": [
    "my_dna=\"ATCGATCGATCGATCGACTGACTAGTCATAGCTATGCATGTAGCTACTCGATCGATCGATCGAtcgatcgatcgatcgatcgatcatgctATCATCGATCGATATCGATGCATCGACTACTAT\"\n",
    "print(len(my_dna))"
   ]
  },
  {
   "cell_type": "code",
   "execution_count": 91,
   "id": "947d8adc-7fc3-4ad2-975a-83e74c59019f",
   "metadata": {},
   "outputs": [
    {
     "name": "stdout",
     "output_type": "stream",
     "text": [
      "chapter 2 of python for biologists is done\n"
     ]
    }
   ],
   "source": [
    "print('chapter 2 of python for biologists is done')"
   ]
  },
  {
   "cell_type": "code",
   "execution_count": 92,
   "id": "1bc23999-c786-4587-af1f-2a514f5b3099",
   "metadata": {},
   "outputs": [
    {
     "name": "stdout",
     "output_type": "stream",
     "text": [
      "Lets start chapter 3\n"
     ]
    }
   ],
   "source": [
    "print('Lets start chapter 3')"
   ]
  },
  {
   "cell_type": "code",
   "execution_count": 93,
   "id": "2488af4e-90ba-4c27-b5e6-af313fefc831",
   "metadata": {},
   "outputs": [
    {
     "data": {
      "text/plain": [
       "'/Users/oliviermunezero/Desktop/Python for learning'"
      ]
     },
     "execution_count": 93,
     "metadata": {},
     "output_type": "execute_result"
    }
   ],
   "source": [
    "%pwd\n"
   ]
  },
  {
   "cell_type": "code",
   "execution_count": 94,
   "id": "ab0a240c-d5d5-45a9-98ff-939ef327b0d0",
   "metadata": {},
   "outputs": [
    {
     "name": "stdout",
     "output_type": "stream",
     "text": [
      "/Users/oliviermunezero/Desktop/Python for biologists\n"
     ]
    }
   ],
   "source": [
    "cd /Users/oliviermunezero/Desktop/Python for biologists"
   ]
  },
  {
   "cell_type": "code",
   "execution_count": 95,
   "id": "a58b50b0-af9d-4653-ab62-ded35ffe45c5",
   "metadata": {},
   "outputs": [
    {
     "data": {
      "text/plain": [
       "'/Users/oliviermunezero/Desktop/Python for biologists'"
      ]
     },
     "execution_count": 95,
     "metadata": {},
     "output_type": "execute_result"
    }
   ],
   "source": [
    "%pwd"
   ]
  },
  {
   "cell_type": "code",
   "execution_count": 96,
   "id": "c2e0a150-4439-4de4-8c05-ab9a0da79796",
   "metadata": {},
   "outputs": [
    {
     "name": "stdout",
     "output_type": "stream",
     "text": [
      "Python_exercises.ipynb  \u001b[34mexercises and examples\u001b[m\u001b[m/\n",
      "\u001b[34mPython_for_biologists\u001b[m\u001b[m/  p4b_exercises.zip\n"
     ]
    }
   ],
   "source": [
    "ls"
   ]
  },
  {
   "cell_type": "code",
   "execution_count": 97,
   "id": "ca3cc866-2566-4dec-b12d-cc2a317a0f70",
   "metadata": {},
   "outputs": [
    {
     "name": "stdout",
     "output_type": "stream",
     "text": [
      "/Users/oliviermunezero/Desktop/Python for biologists/exercises and examples/reading_files/examples\n"
     ]
    }
   ],
   "source": [
    "cd /Users/oliviermunezero/Desktop/Python for biologists/exercises and examples/reading_files/examples"
   ]
  },
  {
   "cell_type": "code",
   "execution_count": 98,
   "id": "e9621f38-7372-4451-87a8-80c1912bda0b",
   "metadata": {},
   "outputs": [
    {
     "name": "stdout",
     "output_type": "stream",
     "text": [
      "/Users/oliviermunezero/Desktop/Python for biologists/exercises and examples/reading_files\n"
     ]
    }
   ],
   "source": [
    "cd .."
   ]
  },
  {
   "cell_type": "code",
   "execution_count": 99,
   "id": "3070fe27-30ba-475f-8216-f5c8b30056a7",
   "metadata": {},
   "outputs": [
    {
     "name": "stdout",
     "output_type": "stream",
     "text": [
      "/Users/oliviermunezero/Desktop/Python for biologists/exercises and examples/reading_files/examples\n"
     ]
    }
   ],
   "source": [
    "cd examples"
   ]
  },
  {
   "cell_type": "code",
   "execution_count": 119,
   "id": "80b9c424-8b47-45a4-8991-e5893c2f70cd",
   "metadata": {},
   "outputs": [
    {
     "name": "stdout",
     "output_type": "stream",
     "text": [
      "ACTGTACGTGCACTGATC\n",
      "\n"
     ]
    }
   ],
   "source": [
    "#Using open to read a file\n",
    "\n",
    "#You need to be in the directory where the file is\n",
    "\n",
    "dna_txt= open('dna.txt')  #open a file object\n",
    "file_contents=dna_txt.read()  #reads the file contents\n",
    "print(file_contents) #print\n"
   ]
  },
  {
   "cell_type": "code",
   "execution_count": 123,
   "id": "8c96588f-4ffe-4350-a6a9-20a74ce4fe16",
   "metadata": {},
   "outputs": [
    {
     "name": "stdout",
     "output_type": "stream",
     "text": [
      "Hello world\n"
     ]
    }
   ],
   "source": [
    "out_text=open(\"out.txt\")\n",
    "content=out_text.read()\n",
    "print(content)"
   ]
  },
  {
   "cell_type": "code",
   "execution_count": 125,
   "id": "50d4bc19-7ff9-45b1-9757-b327d08d6e8c",
   "metadata": {},
   "outputs": [
    {
     "ename": "AttributeError",
     "evalue": "'str' object has no attribute 'read'",
     "output_type": "error",
     "traceback": [
      "\u001b[0;31m---------------------------------------------------------------------------\u001b[0m",
      "\u001b[0;31mAttributeError\u001b[0m                            Traceback (most recent call last)",
      "Cell \u001b[0;32mIn[125], line 4\u001b[0m\n\u001b[1;32m      1\u001b[0m \u001b[38;5;66;03m#Lets try to use read method on a long file\u001b[39;00m\n\u001b[1;32m      3\u001b[0m dna_text\u001b[38;5;241m=\u001b[39m\u001b[38;5;124m'\u001b[39m\u001b[38;5;124mdna.text\u001b[39m\u001b[38;5;124m'\u001b[39m\n\u001b[0;32m----> 4\u001b[0m my_content\u001b[38;5;241m=\u001b[39mdna_text\u001b[38;5;241m.\u001b[39mread()\n",
      "\u001b[0;31mAttributeError\u001b[0m: 'str' object has no attribute 'read'"
     ]
    }
   ],
   "source": [
    "#Lets try to use read method on a long file\n",
    "\n",
    "dna_text='dna.text'\n",
    "my_content=dna_text.read()"
   ]
  },
  {
   "cell_type": "code",
   "execution_count": 129,
   "id": "1af2d3a7-4c7f-410c-8fa5-d606a740f193",
   "metadata": {},
   "outputs": [
    {
     "name": "stdout",
     "output_type": "stream",
     "text": [
      "<_io.TextIOWrapper name='out.txt' mode='r' encoding='UTF-8'>\n"
     ]
    }
   ],
   "source": [
    "#Another error you can get\n",
    "\n",
    "dna_text=\"out.txt\"\n",
    "my_content=open(dna_text)\n",
    "print(my_content)"
   ]
  },
  {
   "cell_type": "code",
   "execution_count": 130,
   "id": "ba224ccb-6954-4996-a5d5-fdc2ae498c3d",
   "metadata": {},
   "outputs": [
    {
     "name": "stdout",
     "output_type": "stream",
     "text": [
      "Hello world\n"
     ]
    }
   ],
   "source": [
    "\n",
    "dna_text=\"out.txt\"\n",
    "my_content=open(dna_text)\n",
    "read_content=my_content.read()\n",
    "print(read_content)"
   ]
  },
  {
   "cell_type": "code",
   "execution_count": 142,
   "id": "2e11ce71-7ef8-4adc-97f3-32d3db071c6f",
   "metadata": {},
   "outputs": [
    {
     "name": "stdout",
     "output_type": "stream",
     "text": [
      "DNA sequence is: ACTGTACGTGCACTGATC\n",
      "The length is: 19\n"
     ]
    }
   ],
   "source": [
    "#Print a DNA sequence along with its length\n",
    "\n",
    "#open the file \n",
    "my_file=open('dna.txt')\n",
    "#read the content\n",
    "file_content=my_file.read()\n",
    "#calculate the length\n",
    "length= len(file_content)\n",
    "#print the output\n",
    "print('DNA sequence is: ' + file_content + 'The length is: ' + str(length))"
   ]
  },
  {
   "cell_type": "code",
   "execution_count": 145,
   "id": "ffebf7cd-cffd-4c82-8d42-472cf79b1f34",
   "metadata": {},
   "outputs": [
    {
     "name": "stdout",
     "output_type": "stream",
     "text": [
      "DNA sequence is: ACTGTACGTGCACTGATCThe length is: 18\n"
     ]
    }
   ],
   "source": [
    "#removing the newline from the end of the file contents by using this method: rstrip\n",
    "\n",
    "my_file=open('dna.txt')\n",
    "file_content=my_file.read().rstrip('\\n')\n",
    "length= len(file_content)\n",
    "print('DNA sequence is: ' + file_content + 'The length is: ' + str(length))"
   ]
  },
  {
   "cell_type": "code",
   "execution_count": 1,
   "id": "237b9bb7-39e2-4b65-9c47-fce14d73069a",
   "metadata": {},
   "outputs": [
    {
     "data": {
      "text/plain": [
       "'/Users/oliviermunezero/Desktop/Python for learning/Python_learning'"
      ]
     },
     "execution_count": 1,
     "metadata": {},
     "output_type": "execute_result"
    }
   ],
   "source": [
    "%pwd\n"
   ]
  },
  {
   "cell_type": "code",
   "execution_count": 2,
   "id": "ca8a07a8-5ffb-454e-9678-4da37f68bde1",
   "metadata": {},
   "outputs": [
    {
     "name": "stdout",
     "output_type": "stream",
     "text": [
      "/Users/oliviermunezero/Desktop/Python for biologists/exercises and examples/reading_files/examples\n"
     ]
    }
   ],
   "source": [
    "cd /Users/oliviermunezero/Desktop/Python for biologists/exercises and examples/reading_files/examples"
   ]
  },
  {
   "cell_type": "code",
   "execution_count": 6,
   "id": "3d747626-491a-4e91-b77e-7a59b448ec6f",
   "metadata": {},
   "outputs": [
    {
     "name": "stdout",
     "output_type": "stream",
     "text": [
      "Sequence is ACTGTACGTGCACTGATC\n",
      "Length is 19\n"
     ]
    }
   ],
   "source": [
    "my_file= open(\"dna.txt\")\n",
    "file_contents=my_file.read()\n",
    "DNA_length=len(file_contents)\n",
    "print('Sequence is ' + file_contents + 'Length is ' + str(DNA_length))"
   ]
  },
  {
   "cell_type": "code",
   "execution_count": 11,
   "id": "6cea0558-5e0f-40b1-8f18-4db39e7c190f",
   "metadata": {},
   "outputs": [
    {
     "name": "stdout",
     "output_type": "stream",
     "text": [
      "Sequence is ACTGTACGTGCACTGATC and Length is 18\n"
     ]
    }
   ],
   "source": [
    "#I can put all of the above output on one line by using this method (rstrip(']n'))\n",
    "\n",
    "my_file= open(\"dna.txt\")\n",
    "file_contents=my_file.read().rstrip('\\n')\n",
    "DNA_length=len(file_contents)\n",
    "print('Sequence is ' + file_contents +   ' and Length is ' + str(DNA_length))"
   ]
  },
  {
   "cell_type": "code",
   "execution_count": 13,
   "id": "bef76387-fe63-4bd4-852d-2812157566f5",
   "metadata": {},
   "outputs": [
    {
     "ename": "FileNotFoundError",
     "evalue": "[Errno 2] No such file or directory: 'nonexistentent.txt'",
     "output_type": "error",
     "traceback": [
      "\u001b[0;31m---------------------------------------------------------------------------\u001b[0m",
      "\u001b[0;31mFileNotFoundError\u001b[0m                         Traceback (most recent call last)",
      "Cell \u001b[0;32mIn[13], line 3\u001b[0m\n\u001b[1;32m      1\u001b[0m \u001b[38;5;66;03m#Missing files\u001b[39;00m\n\u001b[0;32m----> 3\u001b[0m my_file\u001b[38;5;241m=\u001b[39m\u001b[38;5;28mopen\u001b[39m(\u001b[38;5;124m\"\u001b[39m\u001b[38;5;124mnonexistentent.txt\u001b[39m\u001b[38;5;124m\"\u001b[39m)\n",
      "File \u001b[0;32m/opt/anaconda3/lib/python3.11/site-packages/IPython/core/interactiveshell.py:310\u001b[0m, in \u001b[0;36m_modified_open\u001b[0;34m(file, *args, **kwargs)\u001b[0m\n\u001b[1;32m    303\u001b[0m \u001b[38;5;28;01mif\u001b[39;00m file \u001b[38;5;129;01min\u001b[39;00m {\u001b[38;5;241m0\u001b[39m, \u001b[38;5;241m1\u001b[39m, \u001b[38;5;241m2\u001b[39m}:\n\u001b[1;32m    304\u001b[0m     \u001b[38;5;28;01mraise\u001b[39;00m \u001b[38;5;167;01mValueError\u001b[39;00m(\n\u001b[1;32m    305\u001b[0m         \u001b[38;5;124mf\u001b[39m\u001b[38;5;124m\"\u001b[39m\u001b[38;5;124mIPython won\u001b[39m\u001b[38;5;124m'\u001b[39m\u001b[38;5;124mt let you open fd=\u001b[39m\u001b[38;5;132;01m{\u001b[39;00mfile\u001b[38;5;132;01m}\u001b[39;00m\u001b[38;5;124m by default \u001b[39m\u001b[38;5;124m\"\u001b[39m\n\u001b[1;32m    306\u001b[0m         \u001b[38;5;124m\"\u001b[39m\u001b[38;5;124mas it is likely to crash IPython. If you know what you are doing, \u001b[39m\u001b[38;5;124m\"\u001b[39m\n\u001b[1;32m    307\u001b[0m         \u001b[38;5;124m\"\u001b[39m\u001b[38;5;124myou can use builtins\u001b[39m\u001b[38;5;124m'\u001b[39m\u001b[38;5;124m open.\u001b[39m\u001b[38;5;124m\"\u001b[39m\n\u001b[1;32m    308\u001b[0m     )\n\u001b[0;32m--> 310\u001b[0m \u001b[38;5;28;01mreturn\u001b[39;00m io_open(file, \u001b[38;5;241m*\u001b[39margs, \u001b[38;5;241m*\u001b[39m\u001b[38;5;241m*\u001b[39mkwargs)\n",
      "\u001b[0;31mFileNotFoundError\u001b[0m: [Errno 2] No such file or directory: 'nonexistentent.txt'"
     ]
    }
   ],
   "source": [
    "#Missing files\n",
    "\n",
    "my_file=open(\"nonexistentent.txt\") #here you get an error because we are trying to open a file that does not exist\n"
   ]
  },
  {
   "cell_type": "code",
   "execution_count": 20,
   "id": "9f36741a-2d26-4615-8c2d-5798a03a6789",
   "metadata": {},
   "outputs": [
    {
     "name": "stdout",
     "output_type": "stream",
     "text": [
      "Olivier is saying hello to everyone\n"
     ]
    }
   ],
   "source": [
    "#Writing text to files\n",
    "\n",
    "my_file= open(\"out.txt\" , \"w\") #open a file we want to write into\n",
    "my_file.write(\"Olivier is saying hello to everyone\") #then use write method to write new content in the file\n",
    "\n",
    "file=open(\"out.txt\")\n",
    "content=file.read()\n",
    "print(content)"
   ]
  },
  {
   "cell_type": "code",
   "execution_count": 28,
   "id": "ef218bbb-26d1-457b-80b1-d36a44487d97",
   "metadata": {},
   "outputs": [
    {
     "name": "stdout",
     "output_type": "stream",
     "text": [
      "Olivier is saying hello to everyoneHello worldHello worldHello worldHello world\n"
     ]
    }
   ],
   "source": [
    "#let us use \"a\" mode to append some contents to ou.txt which contains some contents\n",
    "\n",
    "my_file=open(\"out.txt\", \"a\") #\"a\" for appending, it adds new content to an existing file with contents in it\n",
    "my_file.write(\"Hello world\")\n",
    "\n",
    "file=open('out.txt')\n",
    "content=file.read()\n",
    "print(content)"
   ]
  },
  {
   "cell_type": "code",
   "execution_count": 31,
   "id": "aeb2ea6d-c523-4a92-9abc-7eb5aee85636",
   "metadata": {},
   "outputs": [],
   "source": [
    "#Closing a file\n",
    "my_file=open(\"out.txt\", \"a\")\n",
    "my_file.write(\"Hello world\")\n",
    "my_file.close() #this is a method which does not take any argument in it, it returns no useful value"
   ]
  },
  {
   "cell_type": "code",
   "execution_count": 37,
   "id": "93fabccc-2a39-4088-bd9f-c04d185c8850",
   "metadata": {},
   "outputs": [
    {
     "name": "stdout",
     "output_type": "stream",
     "text": [
      "\n",
      "# R with chris\n",
      "\n",
      "x <- c(1,2,3,4,5)\n",
      "sd(x)\n",
      "\n",
      "sd2 <- function(mune){sqrt(var(mune))}\n",
      "sd2(x)\n",
      "save.sd <- sd2(x)\n",
      "\n",
      "objects()\n",
      "ls()\n",
      "function(mune){cat(\"my data \\n\", mune, \"\\n\") \n",
      "  \n",
      "  sqrt(var(mune))}\n",
      "\n",
      "save.sd <- sd2(x)\n",
      "pnorm(q=1.96)\n",
      "pnorm(q=1.96, mean = 0, sd=1)\n",
      "\n",
      "pnorm(q = c(-1.96, 1.96))\n",
      "\n",
      "c(-1.96, 1.96)\n",
      "\n",
      "\n",
      "x <- c(3.68, -3.63, 0.80, 3.03, -9.86, -8.66, \n",
      "         -2.38, 8.94, 0.52, 1.25) \n",
      "y <- c(0.55, 1.65, 0.98, -0.07, -0.01, -0.31, \n",
      "         -0.34, -1.38, -1.32, 0.53)\n",
      "x[1]+y[2]\n",
      "pnorm(x)\n",
      "\n",
      "\n",
      "getwd()\n",
      "\n",
      "setwd(\"/Users/oliviermunezero/Desktop/ChrisBilder_R\")\n",
      "\n",
      "library(tidyverse)\n",
      "library(tidyr)\n",
      "\n",
      "# Read the dataset in R\n",
      "\n",
      "GPA <- read_csv(\"/Users/oliviermunezero/Desktop/ChrisBilder_R/gpa.csv\")\n",
      "names(GPA)\n",
      "colnames(GPA)\n",
      "GPA$HSGPA[2]\n",
      "GPA$CollegeGPA[2]\n",
      "\n",
      "GPA$CollegeGPA[1]\n",
      "\n",
      "GPA$CollegeGPA[1:3]\n",
      "\n",
      "GPA[c(1,2,3), 2]\n",
      "GPA[2]\n",
      "\n",
      "GPA[\"HSGPA\"]\n",
      "GPA[,1] %>% GPA[2,1]\n",
      "# Some statistics\n",
      "sum <- summary(GPA)\n",
      "\n",
      " plot(x=GPA$HSGPA, y=GPA$CollegeGPA, xlab = \"HSGPA\", ylab = \"(CollegeGPA\", \n",
      "      main = \"CollegeGPAvs. HSGPA\", xlim = c(0,4.5), ylim = c(0,4.0), col=\"green\", pch=1, cex=1.0, \n",
      " panel.first = grid(col = \"red\", lty = 2)) %>% abline()\n",
      " \n",
      " library(ggplot2)\n",
      " \n",
      " install.packages(\"RColorBrewer\")\n",
      " library(RColorBrewer)\n",
      "\n",
      " ggplot(GPA, aes(HSGPA, CollegeGPA, fill=\"blue\")) + geom_point()+labs(x=\"High School GPA\", \n",
      "           y=\"Collge GPA\", title = \"High School GPA vsCollge GPA\")+geom_smooth(method = \"lm\")\n",
      "  \n",
      "install.packages(\"Rcmdr\")\n",
      "library(Rcmdr)\n",
      "pnorm(1.96)  \n",
      "\n",
      "a <- c(1,2,3,4,5)\n",
      "\n",
      "sd(a)\n",
      "\n",
      "sd2 <- function(x){sqrt(var(x))}\n",
      "sd2(a)\n",
      "\n",
      "regression <- lm(CollegeGPA~HSGPA, data = GPA)\n",
      "\n",
      "names(regression)\n",
      "regression$coefficients\n",
      "regression$fitted.values\n",
      "regression$rank\n",
      "regression$\n",
      "\n",
      "# creating new data.frome from GPA\n",
      "  \n",
      "  install.packages(\"math\")\n",
      "\n",
      "new_GPA <- data.frame(GPA,GPAhat=regression$fitted.values , Residuals=regression$residuals)\n",
      "\n",
      "\n",
      "\n",
      "?round\n",
      "\n",
      "library(stats)\n",
      "\n",
      "\n"
     ]
    }
   ],
   "source": [
    "#Opening a file from another location rather than from current directory\n",
    "\n",
    "my_file=open(\"/Users/oliviermunezero/Desktop/R_Programming/R-Programming-language/R_for_beginners.R\") #You just provide the full path\n",
    "content=my_file.read()\n",
    "print(content)"
   ]
  },
  {
   "cell_type": "code",
   "execution_count": 82,
   "id": "ba2846db-13ce-4aad-886d-4a986e509ca6",
   "metadata": {},
   "outputs": [
    {
     "data": {
      "text/plain": [
       "28"
      ]
     },
     "execution_count": 82,
     "metadata": {},
     "output_type": "execute_result"
    }
   ],
   "source": [
    "#chapter 3 exercises\n",
    "\n",
    "#Splitting genomic DNA\n",
    "\n",
    "my_file=open(\"/Users/oliviermunezero/Desktop/Python for biologists/exercises and examples/reading_files/exercises/genomic_dna.txt\")\n",
    "content=my_file.read()\n",
    "#Extracting different bits of DNA sequence\n",
    "exon1=content[0:62] #splitting \n",
    "\n",
    "introns=content[62:90]\n",
    "\n",
    "exon2=content[90:123]\n",
    "\n",
    "#open and write in the two output files\n",
    "coding_file=open(\"coding_dna.txt\", \"w\") #open a file and write in it\n",
    "coding_file.write(exon1 + exon2)\n",
    "\n",
    "noncoding_file=open(\"noncoding_dna.txt\", \"w\")\n",
    "noncoding_file.write(introns)\n"
   ]
  },
  {
   "cell_type": "code",
   "execution_count": 68,
   "id": "294e033b-c391-4e6f-b947-87df0b072c68",
   "metadata": {},
   "outputs": [
    {
     "name": "stdout",
     "output_type": "stream",
     "text": [
      "/Users/oliviermunezero/Desktop/Python for biologists/exercises and examples/reading_files/exercises\n"
     ]
    }
   ],
   "source": [
    "cd /Users/oliviermunezero/Desktop/Python for biologists/exercises and examples/reading_files/exercises"
   ]
  },
  {
   "cell_type": "code",
   "execution_count": 106,
   "id": "83bbee57-cf91-4dfa-a894-f3f8ae85be28",
   "metadata": {},
   "outputs": [
    {
     "data": {
      "text/plain": [
       "109"
      ]
     },
     "execution_count": 106,
     "metadata": {},
     "output_type": "execute_result"
    }
   ],
   "source": [
    "# Writing a program that will create a FASTA file with three sequences\n",
    "\n",
    "header1=\"ABC123\"\n",
    "header2=\"DEF456\"\n",
    "header3=\"HIJ789\"\n",
    "\n",
    "sequence1=\"ATCGTACGATCGATCGATCGCTAGACGTATCG\"\n",
    "sequence2=\"actgatcgacgatcgatcgatcacgact\"\n",
    "sequence3=\"ACTGAC-ACTGT--ACTGTA----CATGTG\"\n",
    "\n",
    "my_file=open(\"sequences.fasta\", \"w\")\n",
    "\n",
    "my_file.write(\">\"+header1 + '\\n' + sequence1 + '\\n'+ \">\" +header2.upper()+ '\\n' + sequence2 + '\\n' +\">\"+header3 + '\\n'+sequence3.replace(\"-\",\"\"))\n",
    "\n",
    "#'\\n' this is a line character operator, "
   ]
  },
  {
   "cell_type": "code",
   "execution_count": 115,
   "id": "d7884820-14fe-4257-aa33-3d89bd445264",
   "metadata": {},
   "outputs": [
    {
     "data": {
      "text/plain": [
       "31"
      ]
     },
     "execution_count": 115,
     "metadata": {},
     "output_type": "execute_result"
    }
   ],
   "source": [
    "#Writing multiple FASTA files\n",
    "\n",
    "header1=\"ABC123\"\n",
    "header2=\"DEF456\"\n",
    "header3=\"HIJ789\"\n",
    "\n",
    "sequence1=\"ATCGTACGATCGATCGATCGCTAGACGTATCG\"\n",
    "sequence2=\"actgatcgacgatcgatcgatcacgact\"\n",
    "sequence3=\"ACTGAC-ACTGT--ACTGTA----CATGTG\"\n",
    "\n",
    "# make three files to hold the output\n",
    "fasta1=open(header1+'.fasta', 'w')\n",
    "fasta2=open(header2+'.fasta', 'w')\n",
    "fasta3=open(header3+'.fasta', 'w')\n",
    "\n",
    "\n",
    "#write sequences to output files\n",
    "fasta1.write(\">\"+header1+'\\n'+sequence1)\n",
    "fasta2.write(\">\"+header2+'\\n'+sequence2.upper())\n",
    "fasta3.write(\">\"+header3+'\\n'+sequence3.replace('-',''))"
   ]
  },
  {
   "cell_type": "code",
   "execution_count": null,
   "id": "f6e2a89f-c116-4eba-b549-872c7e7b5710",
   "metadata": {},
   "outputs": [],
   "source": []
  }
 ],
 "metadata": {
  "kernelspec": {
   "display_name": "Python 3 (ipykernel)",
   "language": "python",
   "name": "python3"
  },
  "language_info": {
   "codemirror_mode": {
    "name": "ipython",
    "version": 3
   },
   "file_extension": ".py",
   "mimetype": "text/x-python",
   "name": "python",
   "nbconvert_exporter": "python",
   "pygments_lexer": "ipython3",
   "version": "3.11.7"
  }
 },
 "nbformat": 4,
 "nbformat_minor": 5
}
